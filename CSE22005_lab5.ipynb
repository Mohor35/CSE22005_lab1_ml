{
  "nbformat": 4,
  "nbformat_minor": 0,
  "metadata": {
    "colab": {
      "provenance": [],
      "authorship_tag": "ABX9TyOq/edR/8BGmfdjQG0bu4iU",
      "include_colab_link": true
    },
    "kernelspec": {
      "name": "python3",
      "display_name": "Python 3"
    },
    "language_info": {
      "name": "python"
    }
  },
  "cells": [
    {
      "cell_type": "markdown",
      "metadata": {
        "id": "view-in-github",
        "colab_type": "text"
      },
      "source": [
        "<a href=\"https://colab.research.google.com/github/Mohor35/CSE22005_ml/blob/main/CSE22005_lab5.ipynb\" target=\"_parent\"><img src=\"https://colab.research.google.com/assets/colab-badge.svg\" alt=\"Open In Colab\"/></a>"
      ]
    },
    {
      "cell_type": "markdown",
      "source": [
        "Lab 5"
      ],
      "metadata": {
        "id": "SWeeFbwiWbRu"
      }
    },
    {
      "cell_type": "markdown",
      "source": [
        "Question A1"
      ],
      "metadata": {
        "id": "cdVR7IOjWfAf"
      }
    },
    {
      "cell_type": "code",
      "source": [
        "from google.colab import files\n",
        "uploaded = files.upload()"
      ],
      "metadata": {
        "id": "lGGZfkZiXGWz",
        "colab": {
          "base_uri": "https://localhost:8080/",
          "height": 73
        },
        "outputId": "efa5ad06-31d0-4568-f21f-d9f186c0b8e4"
      },
      "execution_count": 4,
      "outputs": [
        {
          "output_type": "display_data",
          "data": {
            "text/plain": [
              "<IPython.core.display.HTML object>"
            ],
            "text/html": [
              "\n",
              "     <input type=\"file\" id=\"files-65e8f68d-4e13-4250-9470-5a75f51446c1\" name=\"files[]\" multiple disabled\n",
              "        style=\"border:none\" />\n",
              "     <output id=\"result-65e8f68d-4e13-4250-9470-5a75f51446c1\">\n",
              "      Upload widget is only available when the cell has been executed in the\n",
              "      current browser session. Please rerun this cell to enable.\n",
              "      </output>\n",
              "      <script>// Copyright 2017 Google LLC\n",
              "//\n",
              "// Licensed under the Apache License, Version 2.0 (the \"License\");\n",
              "// you may not use this file except in compliance with the License.\n",
              "// You may obtain a copy of the License at\n",
              "//\n",
              "//      http://www.apache.org/licenses/LICENSE-2.0\n",
              "//\n",
              "// Unless required by applicable law or agreed to in writing, software\n",
              "// distributed under the License is distributed on an \"AS IS\" BASIS,\n",
              "// WITHOUT WARRANTIES OR CONDITIONS OF ANY KIND, either express or implied.\n",
              "// See the License for the specific language governing permissions and\n",
              "// limitations under the License.\n",
              "\n",
              "/**\n",
              " * @fileoverview Helpers for google.colab Python module.\n",
              " */\n",
              "(function(scope) {\n",
              "function span(text, styleAttributes = {}) {\n",
              "  const element = document.createElement('span');\n",
              "  element.textContent = text;\n",
              "  for (const key of Object.keys(styleAttributes)) {\n",
              "    element.style[key] = styleAttributes[key];\n",
              "  }\n",
              "  return element;\n",
              "}\n",
              "\n",
              "// Max number of bytes which will be uploaded at a time.\n",
              "const MAX_PAYLOAD_SIZE = 100 * 1024;\n",
              "\n",
              "function _uploadFiles(inputId, outputId) {\n",
              "  const steps = uploadFilesStep(inputId, outputId);\n",
              "  const outputElement = document.getElementById(outputId);\n",
              "  // Cache steps on the outputElement to make it available for the next call\n",
              "  // to uploadFilesContinue from Python.\n",
              "  outputElement.steps = steps;\n",
              "\n",
              "  return _uploadFilesContinue(outputId);\n",
              "}\n",
              "\n",
              "// This is roughly an async generator (not supported in the browser yet),\n",
              "// where there are multiple asynchronous steps and the Python side is going\n",
              "// to poll for completion of each step.\n",
              "// This uses a Promise to block the python side on completion of each step,\n",
              "// then passes the result of the previous step as the input to the next step.\n",
              "function _uploadFilesContinue(outputId) {\n",
              "  const outputElement = document.getElementById(outputId);\n",
              "  const steps = outputElement.steps;\n",
              "\n",
              "  const next = steps.next(outputElement.lastPromiseValue);\n",
              "  return Promise.resolve(next.value.promise).then((value) => {\n",
              "    // Cache the last promise value to make it available to the next\n",
              "    // step of the generator.\n",
              "    outputElement.lastPromiseValue = value;\n",
              "    return next.value.response;\n",
              "  });\n",
              "}\n",
              "\n",
              "/**\n",
              " * Generator function which is called between each async step of the upload\n",
              " * process.\n",
              " * @param {string} inputId Element ID of the input file picker element.\n",
              " * @param {string} outputId Element ID of the output display.\n",
              " * @return {!Iterable<!Object>} Iterable of next steps.\n",
              " */\n",
              "function* uploadFilesStep(inputId, outputId) {\n",
              "  const inputElement = document.getElementById(inputId);\n",
              "  inputElement.disabled = false;\n",
              "\n",
              "  const outputElement = document.getElementById(outputId);\n",
              "  outputElement.innerHTML = '';\n",
              "\n",
              "  const pickedPromise = new Promise((resolve) => {\n",
              "    inputElement.addEventListener('change', (e) => {\n",
              "      resolve(e.target.files);\n",
              "    });\n",
              "  });\n",
              "\n",
              "  const cancel = document.createElement('button');\n",
              "  inputElement.parentElement.appendChild(cancel);\n",
              "  cancel.textContent = 'Cancel upload';\n",
              "  const cancelPromise = new Promise((resolve) => {\n",
              "    cancel.onclick = () => {\n",
              "      resolve(null);\n",
              "    };\n",
              "  });\n",
              "\n",
              "  // Wait for the user to pick the files.\n",
              "  const files = yield {\n",
              "    promise: Promise.race([pickedPromise, cancelPromise]),\n",
              "    response: {\n",
              "      action: 'starting',\n",
              "    }\n",
              "  };\n",
              "\n",
              "  cancel.remove();\n",
              "\n",
              "  // Disable the input element since further picks are not allowed.\n",
              "  inputElement.disabled = true;\n",
              "\n",
              "  if (!files) {\n",
              "    return {\n",
              "      response: {\n",
              "        action: 'complete',\n",
              "      }\n",
              "    };\n",
              "  }\n",
              "\n",
              "  for (const file of files) {\n",
              "    const li = document.createElement('li');\n",
              "    li.append(span(file.name, {fontWeight: 'bold'}));\n",
              "    li.append(span(\n",
              "        `(${file.type || 'n/a'}) - ${file.size} bytes, ` +\n",
              "        `last modified: ${\n",
              "            file.lastModifiedDate ? file.lastModifiedDate.toLocaleDateString() :\n",
              "                                    'n/a'} - `));\n",
              "    const percent = span('0% done');\n",
              "    li.appendChild(percent);\n",
              "\n",
              "    outputElement.appendChild(li);\n",
              "\n",
              "    const fileDataPromise = new Promise((resolve) => {\n",
              "      const reader = new FileReader();\n",
              "      reader.onload = (e) => {\n",
              "        resolve(e.target.result);\n",
              "      };\n",
              "      reader.readAsArrayBuffer(file);\n",
              "    });\n",
              "    // Wait for the data to be ready.\n",
              "    let fileData = yield {\n",
              "      promise: fileDataPromise,\n",
              "      response: {\n",
              "        action: 'continue',\n",
              "      }\n",
              "    };\n",
              "\n",
              "    // Use a chunked sending to avoid message size limits. See b/62115660.\n",
              "    let position = 0;\n",
              "    do {\n",
              "      const length = Math.min(fileData.byteLength - position, MAX_PAYLOAD_SIZE);\n",
              "      const chunk = new Uint8Array(fileData, position, length);\n",
              "      position += length;\n",
              "\n",
              "      const base64 = btoa(String.fromCharCode.apply(null, chunk));\n",
              "      yield {\n",
              "        response: {\n",
              "          action: 'append',\n",
              "          file: file.name,\n",
              "          data: base64,\n",
              "        },\n",
              "      };\n",
              "\n",
              "      let percentDone = fileData.byteLength === 0 ?\n",
              "          100 :\n",
              "          Math.round((position / fileData.byteLength) * 100);\n",
              "      percent.textContent = `${percentDone}% done`;\n",
              "\n",
              "    } while (position < fileData.byteLength);\n",
              "  }\n",
              "\n",
              "  // All done.\n",
              "  yield {\n",
              "    response: {\n",
              "      action: 'complete',\n",
              "    }\n",
              "  };\n",
              "}\n",
              "\n",
              "scope.google = scope.google || {};\n",
              "scope.google.colab = scope.google.colab || {};\n",
              "scope.google.colab._files = {\n",
              "  _uploadFiles,\n",
              "  _uploadFilesContinue,\n",
              "};\n",
              "})(self);\n",
              "</script> "
            ]
          },
          "metadata": {}
        },
        {
          "output_type": "stream",
          "name": "stdout",
          "text": [
            "Saving Thyroid.xlsx to Thyroid.xlsx\n"
          ]
        }
      ]
    },
    {
      "cell_type": "code",
      "source": [
        "import pandas as pd\n",
        "from sklearn.model_selection import train_test_split\n",
        "from sklearn.linear_model import LinearRegression\n",
        "from sklearn.metrics import mean_squared_error\n",
        "\n",
        "\n",
        "file_path = 'Thyroid.xlsx'\n",
        "data = pd.read_excel(file_path)\n",
        "\n",
        "\n",
        "print(\"Column names:\", data.columns)\n",
        "print(data.head())\n",
        "\n",
        "\n",
        "data = data[['age', 'TSH']].replace('?', pd.NA).dropna()\n",
        "\n",
        "\n",
        "data['TSH'] = pd.to_numeric(data['TSH'], errors='coerce')\n",
        "\n",
        "\n",
        "X = data[['age']]\n",
        "y = data['TSH']\n",
        "\n",
        "\n",
        "X_train, X_test, y_train, y_test = train_test_split(X, y, test_size=0.2, random_state=42)\n",
        "\n",
        "\n",
        "reg = LinearRegression().fit(X_train, y_train)\n",
        "\n",
        "\n",
        "y_train_pred = reg.predict(X_train)\n",
        "\n",
        "\n",
        "mse = mean_squared_error(y_train, y_train_pred)\n",
        "print(f\"Mean Squared Error on Training Set: {mse:.2f}\")\n",
        "\n",
        "\n",
        "y_test_pred = reg.predict(X_test)\n",
        "test_mse = mean_squared_error(y_test, y_test_pred)\n",
        "print(f\"Mean Squared Error on Testing Set: {test_mse:.2f}\")\n"
      ],
      "metadata": {
        "colab": {
          "base_uri": "https://localhost:8080/"
        },
        "id": "4z87NLOuXqbM",
        "outputId": "405705b3-33f0-4c3c-9f84-ed500e7d5245"
      },
      "execution_count": 10,
      "outputs": [
        {
          "output_type": "stream",
          "name": "stdout",
          "text": [
            "Column names: Index(['Record ID', 'age', 'sex', 'on thyroxine', 'query on thyroxine',\n",
            "       'on antithyroid medication', 'sick', 'pregnant', 'thyroid surgery',\n",
            "       'I131 treatment', 'query hypothyroid', 'query hyperthyroid', 'lithium',\n",
            "       'goitre', 'tumor', 'hypopituitary', 'psych', 'TSH measured', 'TSH',\n",
            "       'T3 measured', 'T3', 'TT4 measured', 'TT4', 'T4U measured', 'T4U',\n",
            "       'FTI measured', 'FTI', 'TBG measured', 'TBG', 'referral source',\n",
            "       'Condition'],\n",
            "      dtype='object')\n",
            "   Record ID  age sex on thyroxine query on thyroxine  \\\n",
            "0  840801013   29   F            f                  f   \n",
            "1  840801014   29   F            f                  f   \n",
            "2  840801042   41   F            f                  f   \n",
            "3  840803046   36   F            f                  f   \n",
            "4  840803047   32   F            f                  f   \n",
            "\n",
            "  on antithyroid medication sick pregnant thyroid surgery I131 treatment  ...  \\\n",
            "0                         f    f        f               f              f  ...   \n",
            "1                         f    f        f               f              f  ...   \n",
            "2                         f    f        f               f              f  ...   \n",
            "3                         f    f        f               f              f  ...   \n",
            "4                         f    f        f               f              f  ...   \n",
            "\n",
            "  TT4 measured  TT4 T4U measured T4U FTI measured FTI TBG measured TBG  \\\n",
            "0            f    ?            f   ?            f   ?            f   ?   \n",
            "1            t  128            f   ?            f   ?            f   ?   \n",
            "2            f    ?            f   ?            f   ?            t  11   \n",
            "3            f    ?            f   ?            f   ?            t  26   \n",
            "4            f    ?            f   ?            f   ?            t  36   \n",
            "\n",
            "  referral source     Condition  \n",
            "0           other  NO CONDITION  \n",
            "1           other  NO CONDITION  \n",
            "2           other  NO CONDITION  \n",
            "3           other  NO CONDITION  \n",
            "4           other             S  \n",
            "\n",
            "[5 rows x 31 columns]\n",
            "Mean Squared Error on Training Set: 553.87\n",
            "Mean Squared Error on Testing Set: 708.51\n"
          ]
        }
      ]
    },
    {
      "cell_type": "markdown",
      "source": [
        "Question A2"
      ],
      "metadata": {
        "id": "OU4h9AyyY_O7"
      }
    },
    {
      "cell_type": "code",
      "source": [
        "import pandas as pd\n",
        "import numpy as np\n",
        "from sklearn.model_selection import train_test_split\n",
        "from sklearn.linear_model import LinearRegression\n",
        "from sklearn.metrics import mean_squared_error, mean_absolute_percentage_error, r2_score\n",
        "\n",
        "\n",
        "file_path = 'Thyroid.xlsx'\n",
        "data = pd.read_excel(file_path)\n",
        "\n",
        "\n",
        "print(\"Column names:\", data.columns)\n",
        "\n",
        "\n",
        "\n",
        "\n",
        "data = data[['age', 'TSH', 'T3', 'TT4', 'T4U', 'FTI']].replace('?', pd.NA).dropna()\n",
        "data = data.apply(pd.to_numeric, errors='coerce').dropna()\n",
        "\n",
        "\n",
        "X = data[['age', 'TSH', 'T3', 'TT4', 'T4U', 'FTI']]\n",
        "y = data['TSH']\n",
        "\n",
        "\n",
        "X_train, X_test, y_train, y_test = train_test_split(X, y, test_size=0.2, random_state=42)\n",
        "\n",
        "\n",
        "reg = LinearRegression().fit(X_train, y_train)\n",
        "\n",
        "\n",
        "y_train_pred = reg.predict(X_train)\n",
        "\n",
        "\n",
        "y_test_pred = reg.predict(X_test)\n",
        "\n",
        "\n",
        "mse_train = mean_squared_error(y_train, y_train_pred)\n",
        "mse_test = mean_squared_error(y_test, y_test_pred)\n",
        "\n",
        "rmse_train = np.sqrt(mse_train)\n",
        "rmse_test = np.sqrt(mse_test)\n",
        "\n",
        "\n",
        "mape_train = mean_absolute_percentage_error(y_train, y_train_pred)\n",
        "mape_test = mean_absolute_percentage_error(y_test, y_test_pred)\n",
        "\n",
        "\n",
        "r2_train = r2_score(y_train, y_train_pred)\n",
        "r2_test = r2_score(y_test, y_test_pred)\n",
        "\n",
        "\n",
        "print(f\"Training Set Metrics:\")\n",
        "print(f\"MSE: {mse_train:.2f}\")\n",
        "print(f\"RMSE: {rmse_train:.2f}\")\n",
        "print(f\"MAPE: {mape_train:.2%}\")\n",
        "print(f\"R2 Score: {r2_train:.2f}\\n\")\n",
        "\n",
        "print(f\"Test Set Metrics:\")\n",
        "print(f\"MSE: {mse_test:.2f}\")\n",
        "print(f\"RMSE: {rmse_test:.2f}\")\n",
        "print(f\"MAPE: {mape_test:.2%}\")\n",
        "print(f\"R2 Score: {r2_test:.2f}\")\n"
      ],
      "metadata": {
        "colab": {
          "base_uri": "https://localhost:8080/"
        },
        "id": "T6qX7Ib0X4KI",
        "outputId": "65a572a0-a145-4abb-974e-b65d299b1eb3"
      },
      "execution_count": 15,
      "outputs": [
        {
          "output_type": "stream",
          "name": "stdout",
          "text": [
            "Column names: Index(['Record ID', 'age', 'sex', 'on thyroxine', 'query on thyroxine',\n",
            "       'on antithyroid medication', 'sick', 'pregnant', 'thyroid surgery',\n",
            "       'I131 treatment', 'query hypothyroid', 'query hyperthyroid', 'lithium',\n",
            "       'goitre', 'tumor', 'hypopituitary', 'psych', 'TSH measured', 'TSH',\n",
            "       'T3 measured', 'T3', 'TT4 measured', 'TT4', 'T4U measured', 'T4U',\n",
            "       'FTI measured', 'FTI', 'TBG measured', 'TBG', 'referral source',\n",
            "       'Condition'],\n",
            "      dtype='object')\n",
            "Training Set Metrics:\n",
            "MSE: 0.00\n",
            "RMSE: 0.00\n",
            "MAPE: 0.00%\n",
            "R2 Score: 1.00\n",
            "\n",
            "Test Set Metrics:\n",
            "MSE: 0.00\n",
            "RMSE: 0.00\n",
            "MAPE: 0.00%\n",
            "R2 Score: 1.00\n"
          ]
        }
      ]
    },
    {
      "cell_type": "markdown",
      "source": [
        "Question A3"
      ],
      "metadata": {
        "id": "JJ79lbKWjap-"
      }
    },
    {
      "cell_type": "code",
      "source": [
        "import pandas as pd\n",
        "import numpy as np\n",
        "from sklearn.model_selection import train_test_split\n",
        "from sklearn.linear_model import LinearRegression\n",
        "from sklearn.metrics import mean_squared_error, mean_absolute_percentage_error, r2_score\n",
        "\n",
        "\n",
        "file_path = 'Thyroid.xlsx'\n",
        "data = pd.read_excel(file_path)\n",
        "\n",
        "\n",
        "print(\"Column names:\", data.columns)\n",
        "print(data.head())\n",
        "\n",
        "\n",
        "\n",
        "data = data[['age', 'TSH', 'T3', 'TT4', 'T4U', 'FTI']].replace('?', pd.NA).dropna()\n",
        "\n",
        "\n",
        "data = data.apply(pd.to_numeric, errors='coerce').dropna()\n",
        "\n",
        "\n",
        "X = data[['age', 'TSH', 'T3', 'TT4', 'T4U', 'FTI']]\n",
        "y = data['TSH']\n",
        "\n",
        "\n",
        "X_train, X_test, y_train, y_test = train_test_split(X, y, test_size=0.2, random_state=42)\n",
        "\n",
        "\n",
        "reg = LinearRegression().fit(X_train, y_train)\n",
        "\n",
        "\n",
        "y_train_pred = reg.predict(X_train)\n",
        "y_test_pred = reg.predict(X_test)\n",
        "\n",
        "\n",
        "mse_train = mean_squared_error(y_train, y_train_pred)\n",
        "rmse_train = np.sqrt(mse_train)\n",
        "mape_train = mean_absolute_percentage_error(y_train, y_train_pred)\n",
        "r2_train = r2_score(y_train, y_train_pred)\n",
        "\n",
        "mse_test = mean_squared_error(y_test, y_test_pred)\n",
        "rmse_test = np.sqrt(mse_test)\n",
        "mape_test = mean_absolute_percentage_error(y_test, y_test_pred)\n",
        "r2_test = r2_score(y_test, y_test_pred)\n",
        "\n",
        "\n",
        "print(f\"Training Set Metrics:\")\n",
        "print(f\"MSE: {mse_train:.2f}\")\n",
        "print(f\"RMSE: {rmse_train:.2f}\")\n",
        "print(f\"MAPE: {mape_train:.2%}\")\n",
        "print(f\"R2 Score: {r2_train:.2f}\\n\")\n",
        "\n",
        "print(f\"Test Set Metrics:\")\n",
        "print(f\"MSE: {mse_test:.2f}\")\n",
        "print(f\"RMSE: {rmse_test:.2f}\")\n",
        "print(f\"MAPE: {mape_test:.2%}\")\n",
        "print(f\"R2 Score: {r2_test:.2f}\")\n"
      ],
      "metadata": {
        "colab": {
          "base_uri": "https://localhost:8080/"
        },
        "id": "KQJi5cdPjVf5",
        "outputId": "da496e08-d7a7-413b-a613-e556b3055822"
      },
      "execution_count": 13,
      "outputs": [
        {
          "output_type": "stream",
          "name": "stdout",
          "text": [
            "Column names: Index(['Record ID', 'age', 'sex', 'on thyroxine', 'query on thyroxine',\n",
            "       'on antithyroid medication', 'sick', 'pregnant', 'thyroid surgery',\n",
            "       'I131 treatment', 'query hypothyroid', 'query hyperthyroid', 'lithium',\n",
            "       'goitre', 'tumor', 'hypopituitary', 'psych', 'TSH measured', 'TSH',\n",
            "       'T3 measured', 'T3', 'TT4 measured', 'TT4', 'T4U measured', 'T4U',\n",
            "       'FTI measured', 'FTI', 'TBG measured', 'TBG', 'referral source',\n",
            "       'Condition'],\n",
            "      dtype='object')\n",
            "   Record ID  age sex on thyroxine query on thyroxine  \\\n",
            "0  840801013   29   F            f                  f   \n",
            "1  840801014   29   F            f                  f   \n",
            "2  840801042   41   F            f                  f   \n",
            "3  840803046   36   F            f                  f   \n",
            "4  840803047   32   F            f                  f   \n",
            "\n",
            "  on antithyroid medication sick pregnant thyroid surgery I131 treatment  ...  \\\n",
            "0                         f    f        f               f              f  ...   \n",
            "1                         f    f        f               f              f  ...   \n",
            "2                         f    f        f               f              f  ...   \n",
            "3                         f    f        f               f              f  ...   \n",
            "4                         f    f        f               f              f  ...   \n",
            "\n",
            "  TT4 measured  TT4 T4U measured T4U FTI measured FTI TBG measured TBG  \\\n",
            "0            f    ?            f   ?            f   ?            f   ?   \n",
            "1            t  128            f   ?            f   ?            f   ?   \n",
            "2            f    ?            f   ?            f   ?            t  11   \n",
            "3            f    ?            f   ?            f   ?            t  26   \n",
            "4            f    ?            f   ?            f   ?            t  36   \n",
            "\n",
            "  referral source     Condition  \n",
            "0           other  NO CONDITION  \n",
            "1           other  NO CONDITION  \n",
            "2           other  NO CONDITION  \n",
            "3           other  NO CONDITION  \n",
            "4           other             S  \n",
            "\n",
            "[5 rows x 31 columns]\n",
            "Training Set Metrics:\n",
            "MSE: 0.00\n",
            "RMSE: 0.00\n",
            "MAPE: 0.00%\n",
            "R2 Score: 1.00\n",
            "\n",
            "Test Set Metrics:\n",
            "MSE: 0.00\n",
            "RMSE: 0.00\n",
            "MAPE: 0.00%\n",
            "R2 Score: 1.00\n"
          ]
        }
      ]
    },
    {
      "cell_type": "markdown",
      "source": [
        "Question A4"
      ],
      "metadata": {
        "id": "PIaJX_zzk9w0"
      }
    },
    {
      "cell_type": "code",
      "source": [
        "import pandas as pd\n",
        "import numpy as np\n",
        "from sklearn.model_selection import train_test_split\n",
        "from sklearn.cluster import KMeans\n",
        "from sklearn.preprocessing import StandardScaler\n",
        "\n",
        "\n",
        "file_path = 'Thyroid.xlsx'\n",
        "data = pd.read_excel(file_path)\n",
        "\n",
        "\n",
        "print(\"Column names:\", data.columns)\n",
        "\n",
        "\n",
        "data = data[['age', 'T3', 'TT4', 'T4U', 'FTI']].replace('?', pd.NA).dropna()\n",
        "\n",
        "\n",
        "data = data.apply(pd.to_numeric, errors='coerce').dropna()\n",
        "\n",
        "\n",
        "scaler = StandardScaler()\n",
        "data_scaled = scaler.fit_transform(data)\n",
        "\n",
        "\n",
        "kmeans = KMeans(n_clusters=2, random_state=0, n_init=\"auto\").fit(data_scaled)\n",
        "\n",
        "\n",
        "labels = kmeans.labels_\n",
        "\n",
        "\n",
        "cluster_centers = kmeans.cluster_centers_\n",
        "\n",
        "\n",
        "print(\"Cluster labels for each point:\")\n",
        "print(labels)\n",
        "\n",
        "print(\"\\nCluster centers (scaled):\")\n",
        "print(cluster_centers)\n",
        "\n",
        "\n",
        "cluster_centers_original_scale = scaler.inverse_transform(cluster_centers)\n",
        "print(\"\\nCluster centers (original scale):\")\n",
        "print(cluster_centers_original_scale)\n"
      ],
      "metadata": {
        "colab": {
          "base_uri": "https://localhost:8080/"
        },
        "id": "NmXZBCusjvFP",
        "outputId": "02f3ff6e-d705-4eb9-e4b3-8a742086d23f"
      },
      "execution_count": 16,
      "outputs": [
        {
          "output_type": "stream",
          "name": "stdout",
          "text": [
            "Column names: Index(['Record ID', 'age', 'sex', 'on thyroxine', 'query on thyroxine',\n",
            "       'on antithyroid medication', 'sick', 'pregnant', 'thyroid surgery',\n",
            "       'I131 treatment', 'query hypothyroid', 'query hyperthyroid', 'lithium',\n",
            "       'goitre', 'tumor', 'hypopituitary', 'psych', 'TSH measured', 'TSH',\n",
            "       'T3 measured', 'T3', 'TT4 measured', 'TT4', 'T4U measured', 'T4U',\n",
            "       'FTI measured', 'FTI', 'TBG measured', 'TBG', 'referral source',\n",
            "       'Condition'],\n",
            "      dtype='object')\n",
            "Cluster labels for each point:\n",
            "[0 0 0 ... 0 0 0]\n",
            "\n",
            "Cluster centers (scaled):\n",
            "[[ 0.0074719  -0.29543226 -0.40718772 -0.2665338  -0.24672541]\n",
            " [-0.02147109  0.84894757  1.17008558  0.76590558  0.70898466]]\n",
            "\n",
            "Cluster centers (original scale):\n",
            "[[ 83.55807303   1.70232952  92.81615926   0.92252618 102.71470303]\n",
            " [ 49.33249052   2.72180784 152.32553729   1.12534134 143.06257901]]\n"
          ]
        }
      ]
    },
    {
      "cell_type": "markdown",
      "source": [
        "Question A5"
      ],
      "metadata": {
        "id": "qW7vLThulVeM"
      }
    },
    {
      "cell_type": "code",
      "source": [
        "import pandas as pd\n",
        "import numpy as np\n",
        "from sklearn.cluster import KMeans\n",
        "from sklearn.preprocessing import StandardScaler\n",
        "from sklearn.metrics import silhouette_score, calinski_harabasz_score, davies_bouldin_score\n",
        "\n",
        "\n",
        "file_path = 'Thyroid.xlsx'\n",
        "data = pd.read_excel(file_path)\n",
        "\n",
        "\n",
        "print(\"Column names:\", data.columns)\n",
        "\n",
        "data = data[['age', 'T3', 'TT4', 'T4U', 'FTI']].replace('?', pd.NA).dropna()\n",
        "\n",
        "\n",
        "data = data.apply(pd.to_numeric, errors='coerce').dropna()\n",
        "\n",
        "\n",
        "scaler = StandardScaler()\n",
        "data_scaled = scaler.fit_transform(data)\n",
        "\n",
        "\n",
        "kmeans = KMeans(n_clusters=2, random_state=42, n_init=\"auto\").fit(data_scaled)\n",
        "\n",
        "\n",
        "labels = kmeans.labels_\n",
        "\n",
        "\n",
        "sil_score = silhouette_score(data_scaled, labels)\n",
        "\n",
        "\n",
        "ch_score = calinski_harabasz_score(data_scaled, labels)\n",
        "\n",
        "\n",
        "db_score = davies_bouldin_score(data_scaled, labels)\n",
        "\n",
        "\n",
        "print(f\"Silhouette Score: {sil_score:.2f}\")\n",
        "print(f\"Calinski-Harabasz Score: {ch_score:.2f}\")\n",
        "print(f\"Davies-Bouldin Index: {db_score:.2f}\")\n"
      ],
      "metadata": {
        "colab": {
          "base_uri": "https://localhost:8080/"
        },
        "id": "lWWYb2DtlPt_",
        "outputId": "e4efbb11-32a6-416c-a805-3220ee3f9389"
      },
      "execution_count": 17,
      "outputs": [
        {
          "output_type": "stream",
          "name": "stdout",
          "text": [
            "Column names: Index(['Record ID', 'age', 'sex', 'on thyroxine', 'query on thyroxine',\n",
            "       'on antithyroid medication', 'sick', 'pregnant', 'thyroid surgery',\n",
            "       'I131 treatment', 'query hypothyroid', 'query hyperthyroid', 'lithium',\n",
            "       'goitre', 'tumor', 'hypopituitary', 'psych', 'TSH measured', 'TSH',\n",
            "       'T3 measured', 'T3', 'TT4 measured', 'TT4', 'T4U measured', 'T4U',\n",
            "       'FTI measured', 'FTI', 'TBG measured', 'TBG', 'referral source',\n",
            "       'Condition'],\n",
            "      dtype='object')\n",
            "Silhouette Score: 0.96\n",
            "Calinski-Harabasz Score: 1531.15\n",
            "Davies-Bouldin Index: 0.04\n"
          ]
        }
      ]
    },
    {
      "cell_type": "markdown",
      "source": [
        "Question A6"
      ],
      "metadata": {
        "id": "ZnPj29arlvwu"
      }
    },
    {
      "cell_type": "code",
      "source": [
        "import pandas as pd\n",
        "import numpy as np\n",
        "import matplotlib.pyplot as plt\n",
        "from sklearn.cluster import KMeans\n",
        "from sklearn.preprocessing import StandardScaler\n",
        "from sklearn.metrics import silhouette_score, calinski_harabasz_score, davies_bouldin_score\n",
        "\n",
        "\n",
        "file_path = 'Thyroid.xlsx'\n",
        "data = pd.read_excel(file_path)\n",
        "\n",
        "\n",
        "data = data[['age', 'T3', 'TT4', 'T4U', 'FTI']].replace('?', pd.NA).dropna()\n",
        "\n",
        "\n",
        "data = data.apply(pd.to_numeric, errors='coerce').dropna()\n",
        "\n",
        "\n",
        "scaler = StandardScaler()\n",
        "data_scaled = scaler.fit_transform(data)\n",
        "\n",
        "\n",
        "k_values = range(2, 11)\n",
        "\n",
        "\n",
        "silhouette_scores = []\n",
        "ch_scores = []\n",
        "db_scores = []\n",
        "\n",
        "for k in k_values:\n",
        "    kmeans = KMeans(n_clusters=k, random_state=42, n_init=\"auto\").fit(data_scaled)\n",
        "    labels = kmeans.labels_\n",
        "\n",
        "\n",
        "    sil_score = silhouette_score(data_scaled, labels)\n",
        "    ch_score = calinski_harabasz_score(data_scaled, labels)\n",
        "    db_score = davies_bouldin_score(data_scaled, labels)\n",
        "\n",
        "\n",
        "    silhouette_scores.append(sil_score)\n",
        "    ch_scores.append(ch_score)\n",
        "    db_scores.append(db_score)\n",
        "\n",
        "\n",
        "plt.figure(figsize=(14, 6))\n",
        "\n",
        "plt.subplot(1, 3, 1)\n",
        "plt.plot(k_values, silhouette_scores, marker='o', linestyle='-', color='b')\n",
        "plt.title('Silhouette Score vs k')\n",
        "plt.xlabel('k')\n",
        "plt.ylabel('Silhouette Score')\n",
        "plt.grid(True)\n",
        "\n",
        "\n",
        "plt.subplot(1, 3, 2)\n",
        "plt.plot(k_values, ch_scores, marker='o', linestyle='-', color='g')\n",
        "plt.title('Calinski-Harabasz Score vs k')\n",
        "plt.xlabel('k')\n",
        "plt.ylabel('Calinski-Harabasz Score')\n",
        "plt.grid(True)\n",
        "\n",
        "\n",
        "plt.subplot(1, 3, 3)\n",
        "plt.plot(k_values, db_scores, marker='o', linestyle='-', color='r')\n",
        "plt.title('Davies-Bouldin Index vs k')\n",
        "plt.xlabel('k')\n",
        "plt.ylabel('Davies-Bouldin Index')\n",
        "plt.grid(True)\n",
        "\n",
        "plt.tight_layout()\n",
        "plt.show()\n"
      ],
      "metadata": {
        "colab": {
          "base_uri": "https://localhost:8080/",
          "height": 607
        },
        "id": "_pFGFBYclrLc",
        "outputId": "fed0d08a-1b3d-4d20-9d23-86d6adabb87a"
      },
      "execution_count": 18,
      "outputs": [
        {
          "output_type": "display_data",
          "data": {
            "text/plain": [
              "<Figure size 1400x600 with 3 Axes>"
            ],
            "image/png": "[encoded data removed]"
          },
          "metadata": {}
        }
      ]
    },
    {
      "cell_type": "markdown",
      "source": [
        "Question A7"
      ],
      "metadata": {
        "id": "cQduffuWmHgE"
      }
    },
    {
      "cell_type": "code",
      "source": [
        "import pandas as pd\n",
        "import numpy as np\n",
        "import matplotlib.pyplot as plt\n",
        "from sklearn.cluster import KMeans\n",
        "from sklearn.preprocessing import StandardScaler\n",
        "\n",
        "\n",
        "file_path = 'Thyroid.xlsx'\n",
        "data = pd.read_excel(file_path)\n",
        "\n",
        "\n",
        "data = data[['age', 'T3', 'TT4', 'T4U', 'FTI']].replace('?', pd.NA).dropna()\n",
        "\n",
        "\n",
        "data = data.apply(pd.to_numeric, errors='coerce').dropna()\n",
        "\n",
        "\n",
        "scaler = StandardScaler()\n",
        "data_scaled = scaler.fit_transform(data)\n",
        "\n",
        "\n",
        "distortions = []\n",
        "\n",
        "for k in range(2, 20):\n",
        "    kmeans = KMeans(n_clusters=k, random_state=42, n_init=\"auto\").fit(data_scaled)\n",
        "    distortions.append(kmeans.inertia_)\n",
        "\n",
        "\n",
        "plt.figure(figsize=(8, 5))\n",
        "plt.plot(range(2, 20), distortions, marker='o', linestyle='-', color='b')\n",
        "plt.title('Elbow Plot: Inertia vs Number of Clusters')\n",
        "plt.xlabel('Number of Clusters (k)')\n",
        "plt.ylabel('Inertia (Distortion)')\n",
        "plt.grid(True)\n",
        "plt.show()\n"
      ],
      "metadata": {
        "colab": {
          "base_uri": "https://localhost:8080/",
          "height": 487
        },
        "id": "Sz3ar4gnmBxb",
        "outputId": "8e90e486-df4b-46ae-bace-b9d718d87f8c"
      },
      "execution_count": 19,
      "outputs": [
        {
          "output_type": "display_data",
          "data": {
            "text/plain": [
              "<Figure size 800x500 with 1 Axes>"
            ],
            "image/png": "[encoded data removed]"
          },
          "metadata": {}
        }
      ]
    },
    {
      "cell_type": "code",
      "source": [],
      "metadata": {
        "id": "uzo2gBBQmnS-"
      },
      "execution_count": null,
      "outputs": []
    }
  ]
}