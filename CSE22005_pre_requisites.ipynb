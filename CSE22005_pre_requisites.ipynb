{
  "nbformat": 4,
  "nbformat_minor": 0,
  "metadata": {
    "colab": {
      "provenance": [],
      "authorship_tag": "ABX9TyNW1CEwIPa5bG1roB1Ixmwi",
      "include_colab_link": true
    },
    "kernelspec": {
      "name": "python3",
      "display_name": "Python 3"
    },
    "language_info": {
      "name": "python"
    }
  },
  "cells": [
    {
      "cell_type": "markdown",
      "metadata": {
        "id": "view-in-github",
        "colab_type": "text"
      },
      "source": [
        "<a href=\"https://colab.research.google.com/github/Mohor35/CSE22005_ml/blob/main/CSE22005_pre_requisites.ipynb\" target=\"_parent\"><img src=\"https://colab.research.google.com/assets/colab-badge.svg\" alt=\"Open In Colab\"/></a>"
      ]
    },
    {
      "cell_type": "markdown",
      "source": [
        "Question 1"
      ],
      "metadata": {
        "id": "y0kK96QiHhNP"
      }
    },
    {
      "cell_type": "code",
      "execution_count": 1,
      "metadata": {
        "colab": {
          "base_uri": "https://localhost:8080/"
        },
        "id": "dyJ4ZbdmHHpp",
        "outputId": "ca66c2cb-fceb-4b33-c2b8-5f424e0e1304"
      },
      "outputs": [
        {
          "output_type": "stream",
          "name": "stdout",
          "text": [
            "[0.00188287 0.03791364 0.04227232 0.04629279 0.0467067  0.04723317\n",
            " 0.05312173 0.06070182 0.06174805 0.06197185 0.06380043 0.07172448\n",
            " 0.07817583 0.08054724 0.08778957 0.0968159  0.10307565 0.10773888\n",
            " 0.11879086 0.13145155 0.13490262 0.15285201 0.17560449 0.17850848\n",
            " 0.18249173 0.18276061 0.18484996 0.18700404 0.21544562 0.23323872\n",
            " 0.27932215 0.28168221 0.28415153 0.28937743 0.3191654  0.3213043\n",
            " 0.33359192 0.3476137  0.34788002 0.34875658 0.35896405 0.36213723\n",
            " 0.37464125 0.37572063 0.37929393 0.4038384  0.40880011 0.41789733\n",
            " 0.42604684 0.42687672 0.43900953 0.45512584 0.45753343 0.48393963\n",
            " 0.48860596 0.49024331 0.49902774 0.51077667 0.52041697 0.5345299\n",
            " 0.53585278 0.54883602 0.55172607 0.56630664 0.60635172 0.6122203\n",
            " 0.61881641 0.62599467 0.64071994 0.64171399 0.66149973 0.68312369\n",
            " 0.73267578 0.73407165 0.73930372 0.74945122 0.75052339 0.75290457\n",
            " 0.75754938 0.758827   0.7690813  0.77122793 0.7959769  0.8013856\n",
            " 0.82638937 0.82993752 0.85613478 0.85892707 0.86267407 0.88140986\n",
            " 0.88373495 0.91429656 0.93237662 0.94083209 0.94621805 0.95021623\n",
            " 0.95297987 0.9801263  0.98453622 0.98828568]\n"
          ]
        }
      ],
      "source": [
        "import numpy as np\n",
        "V1 = np.random.rand(100)\n",
        "V1_sorted = np.sort(V1)\n",
        "print(V1_sorted)\n"
      ]
    },
    {
      "cell_type": "markdown",
      "source": [
        "Question 2"
      ],
      "metadata": {
        "id": "gjHznLdyHlge"
      }
    },
    {
      "cell_type": "code",
      "source": [
        "import numpy as np\n",
        "V1 = np.random.rand(100)\n",
        "V1_scaled = V1 * 3\n",
        "print(V1_scaled)\n"
      ],
      "metadata": {
        "colab": {
          "base_uri": "https://localhost:8080/"
        },
        "id": "vR03rzDfHaGu",
        "outputId": "c4feb4a6-84d7-453c-b323-7231231678a6"
      },
      "execution_count": 2,
      "outputs": [
        {
          "output_type": "stream",
          "name": "stdout",
          "text": [
            "[2.68371689 2.59003454 0.53846143 2.68558419 1.59410592 1.94746495\n",
            " 0.13013001 1.22342938 0.71122883 1.84135418 2.33933227 1.10547503\n",
            " 1.15554456 1.55914511 1.16322353 1.85820687 0.76557944 1.56829824\n",
            " 0.93048257 0.98488326 0.08152251 1.59164912 0.90460638 1.97922506\n",
            " 2.72423456 1.97810618 2.57550834 0.32282249 0.10479283 1.21424983\n",
            " 0.09709513 1.05526476 0.66947759 1.95691405 2.73900789 1.21182457\n",
            " 2.86702113 1.02485596 0.37680006 0.16026977 1.52253164 2.74864415\n",
            " 1.38393997 0.51898341 1.39169373 0.40929918 2.9562432  1.21510323\n",
            " 2.5899274  2.24831974 2.89365758 1.92485293 0.03741964 2.97256728\n",
            " 1.1426844  1.94135207 2.56439394 1.27161817 2.25400869 0.58966481\n",
            " 1.29847833 0.5690575  2.04011973 2.75770325 1.92066576 1.59427703\n",
            " 1.32801941 0.34497039 0.1659358  2.20486146 0.54944982 2.05229065\n",
            " 1.34120302 2.04012092 2.10440248 0.09095149 0.67961684 1.28458655\n",
            " 0.76903724 1.03269171 1.78697814 1.17479745 0.80794293 2.60289779\n",
            " 0.02852961 1.38295826 1.65506193 1.51924343 0.88932375 2.39376371\n",
            " 0.96690722 1.35879143 1.14349824 2.59958613 0.89946362 2.5968879\n",
            " 1.14229465 2.77842653 0.56418493 0.51638541]\n"
          ]
        }
      ]
    },
    {
      "cell_type": "markdown",
      "source": [
        "Question 3"
      ],
      "metadata": {
        "id": "4rMakHMMHyl0"
      }
    },
    {
      "cell_type": "code",
      "source": [
        "import numpy as np\n",
        "V1 = np.random.rand(100)\n",
        "mean_V1 = np.mean(V1)\n",
        "std_V1 = np.std(V1)\n",
        "print(f\"Mean of V1: {mean_V1}\")\n",
        "print(f\"Standard Deviation of V1: {std_V1}\")\n"
      ],
      "metadata": {
        "colab": {
          "base_uri": "https://localhost:8080/"
        },
        "id": "e3yM8IYmHxbE",
        "outputId": "3806eecc-9d1c-42d3-d8fa-27354d61c9e5"
      },
      "execution_count": 3,
      "outputs": [
        {
          "output_type": "stream",
          "name": "stdout",
          "text": [
            "Mean of V1: 0.5207415567742594\n",
            "Standard Deviation of V1: 0.27575068318482937\n"
          ]
        }
      ]
    },
    {
      "cell_type": "markdown",
      "source": [
        "Question 4\n"
      ],
      "metadata": {
        "id": "xPrwlGmyH_QD"
      }
    },
    {
      "cell_type": "code",
      "source": [
        "import numpy as np\n",
        "matrix = np.zeros((4, 3))\n",
        "matrix = np.random.rand(4, 3)\n",
        "single_dimensional_array = matrix.flatten()\n",
        "\n",
        "\n",
        "print(\"Original Matrix:\")\n",
        "print(matrix)\n",
        "print(\"\\nSingle Dimensional Array:\")\n",
        "print(single_dimensional_array)\n"
      ],
      "metadata": {
        "colab": {
          "base_uri": "https://localhost:8080/"
        },
        "id": "ZuflrlzjH-Oh",
        "outputId": "3da9efd3-8077-48fa-86dd-f99930db1091"
      },
      "execution_count": 4,
      "outputs": [
        {
          "output_type": "stream",
          "name": "stdout",
          "text": [
            "Original Matrix:\n",
            "[[0.25679849 0.28783438 0.10031499]\n",
            " [0.05998115 0.36882368 0.24937884]\n",
            " [0.34652329 0.09847409 0.11122989]\n",
            " [0.0074307  0.55451934 0.67893076]]\n",
            "\n",
            "Single Dimensional Array:\n",
            "[0.25679849 0.28783438 0.10031499 0.05998115 0.36882368 0.24937884\n",
            " 0.34652329 0.09847409 0.11122989 0.0074307  0.55451934 0.67893076]\n"
          ]
        }
      ]
    },
    {
      "cell_type": "markdown",
      "source": [
        "Question 5"
      ],
      "metadata": {
        "id": "6KzD-gCVIOZd"
      }
    },
    {
      "cell_type": "code",
      "source": [
        "S1 = \"I am a great learner. I am going to have an awesome life.\"\n",
        "occurrence_count_case_sensitive = S1.count(\"Am\")\n",
        "occurrence_count_case_insensitive = S1.lower().count(\"am\")\n",
        "print(f\"Case-sensitive: The substring 'Am' occurs {occurrence_count_case_sensitive} times in the string.\")\n",
        "print(f\"Case-insensitive: The substring 'am' occurs {occurrence_count_case_insensitive} times in the string.\")\n"
      ],
      "metadata": {
        "colab": {
          "base_uri": "https://localhost:8080/"
        },
        "id": "ckHAU7qCIIbp",
        "outputId": "55eff8ce-bb68-4706-ec49-b2d1a9131eb2"
      },
      "execution_count": 6,
      "outputs": [
        {
          "output_type": "stream",
          "name": "stdout",
          "text": [
            "Case-sensitive: The substring 'Am' occurs 0 times in the string.\n",
            "Case-insensitive: The substring 'am' occurs 2 times in the string.\n"
          ]
        }
      ]
    },
    {
      "cell_type": "markdown",
      "source": [
        "Question 6"
      ],
      "metadata": {
        "id": "rMg8IMChIjE3"
      }
    },
    {
      "cell_type": "code",
      "source": [
        "S1 = \"I am a great learner. I am going to have an awesome life.\"\n",
        "S2 = \"I work hard and shall be rewarded well.\"\n",
        "\n",
        "S3 = S1 + \" \" + S2\n",
        "\n",
        "print(\"Combined String S3:\")\n",
        "print(S3)\n"
      ],
      "metadata": {
        "colab": {
          "base_uri": "https://localhost:8080/"
        },
        "id": "EtAcaehrIc5L",
        "outputId": "de2248af-1dc8-4991-ab48-c9733e423af6"
      },
      "execution_count": 7,
      "outputs": [
        {
          "output_type": "stream",
          "name": "stdout",
          "text": [
            "Combined String S3:\n",
            "I am a great learner. I am going to have an awesome life. I work hard and shall be rewarded well.\n"
          ]
        }
      ]
    },
    {
      "cell_type": "markdown",
      "source": [
        "Question 7"
      ],
      "metadata": {
        "id": "stFQClfAIxoa"
      }
    },
    {
      "cell_type": "code",
      "source": [
        "import re\n",
        "S3 = \"I am a great learner. I am going to have an awesome life. I work hard and shall be rewarded well.\"\n",
        "words_array = re.split(r'[ .]+', S3)\n",
        "\n",
        "words_array = [word for word in words_array if word]\n",
        "\n",
        "array_length = len(words_array)\n",
        "\n",
        "print(\"Words Array:\")\n",
        "print(words_array)\n",
        "print(f\"\\nLength of the Array: {array_length}\")\n"
      ],
      "metadata": {
        "colab": {
          "base_uri": "https://localhost:8080/"
        },
        "id": "mkV8XuwUIvrq",
        "outputId": "80558e62-219e-494b-9cce-4f308f1781fd"
      },
      "execution_count": 8,
      "outputs": [
        {
          "output_type": "stream",
          "name": "stdout",
          "text": [
            "Words Array:\n",
            "['I', 'am', 'a', 'great', 'learner', 'I', 'am', 'going', 'to', 'have', 'an', 'awesome', 'life', 'I', 'work', 'hard', 'and', 'shall', 'be', 'rewarded', 'well']\n",
            "\n",
            "Length of the Array: 21\n"
          ]
        }
      ]
    },
    {
      "cell_type": "markdown",
      "source": [
        "Question 8"
      ],
      "metadata": {
        "id": "IRpEUe7UJBtv"
      }
    },
    {
      "cell_type": "code",
      "source": [
        "import re\n",
        "S3 = \"I am a great learner. I am going to have an awesome life. I work hard and shall be rewarded well.\"\n",
        "\n",
        "words_array = re.split(r'[ .]+', S3)\n",
        "words_array = [word for word in words_array if word]\n",
        "\n",
        "\n",
        "words_to_remove = [\"I\", \"Am\", \"to\", \"and\"]\n",
        "\n",
        "filtered_array = [word for word in words_array if word not in words_to_remove and len(word) <= 6]\n",
        "filtered_array_length = len(filtered_array)\n",
        "\n",
        "\n",
        "print(\"Filtered Words Array:\")\n",
        "print(filtered_array)\n",
        "print(f\"\\nLength of the Filtered Array: {filtered_array_length}\")\n"
      ],
      "metadata": {
        "colab": {
          "base_uri": "https://localhost:8080/"
        },
        "id": "4hnFVX8XJATt",
        "outputId": "c14fbba7-feef-400b-a3eb-14ed09462ccb"
      },
      "execution_count": 9,
      "outputs": [
        {
          "output_type": "stream",
          "name": "stdout",
          "text": [
            "Filtered Words Array:\n",
            "['am', 'a', 'great', 'am', 'going', 'have', 'an', 'life', 'work', 'hard', 'shall', 'be', 'well']\n",
            "\n",
            "Length of the Filtered Array: 13\n"
          ]
        }
      ]
    },
    {
      "cell_type": "markdown",
      "source": [
        "Question 9"
      ],
      "metadata": {
        "id": "rGPidAuwJUov"
      }
    },
    {
      "cell_type": "code",
      "source": [
        "date_str = \"01-JUN-2021\"\n",
        "day, month_str, year = date_str.split(\"-\")\n",
        "\n",
        "month_mapping = {\n",
        "    \"JAN\": 1, \"FEB\": 2, \"MAR\": 3, \"APR\": 4, \"MAY\": 5, \"JUN\": 6,\n",
        "    \"JUL\": 7, \"AUG\": 8, \"SEP\": 9, \"OCT\": 10, \"NOV\": 11, \"DEC\": 12\n",
        "}\n",
        "\n",
        "month_num = month_mapping[month_str.upper()]\n",
        "\n",
        "print(f\"Day: {day}\")\n",
        "print(f\"Month: {month_str} (Numerical Value: {month_num})\")\n",
        "print(f\"Year: {year}\")\n"
      ],
      "metadata": {
        "colab": {
          "base_uri": "https://localhost:8080/"
        },
        "id": "RFPhjMREJTE9",
        "outputId": "1d05990b-86a8-4a20-908f-213592f267e4"
      },
      "execution_count": 10,
      "outputs": [
        {
          "output_type": "stream",
          "name": "stdout",
          "text": [
            "Day: 01\n",
            "Month: JUN (Numerical Value: 6)\n",
            "Year: 2021\n"
          ]
        }
      ]
    },
    {
      "cell_type": "code",
      "source": [
        "!pip install pandas openpyxl"
      ],
      "metadata": {
        "colab": {
          "base_uri": "https://localhost:8080/"
        },
        "id": "9DOvORtRJptx",
        "outputId": "30636e23-27f1-45c7-b754-0f6c4fd231f0"
      },
      "execution_count": 11,
      "outputs": [
        {
          "output_type": "stream",
          "name": "stdout",
          "text": [
            "Requirement already satisfied: pandas in /usr/local/lib/python3.10/dist-packages (2.1.4)\n",
            "Requirement already satisfied: openpyxl in /usr/local/lib/python3.10/dist-packages (3.1.5)\n",
            "Requirement already satisfied: numpy<2,>=1.22.4 in /usr/local/lib/python3.10/dist-packages (from pandas) (1.26.4)\n",
            "Requirement already satisfied: python-dateutil>=2.8.2 in /usr/local/lib/python3.10/dist-packages (from pandas) (2.8.2)\n",
            "Requirement already satisfied: pytz>=2020.1 in /usr/local/lib/python3.10/dist-packages (from pandas) (2024.1)\n",
            "Requirement already satisfied: tzdata>=2022.1 in /usr/local/lib/python3.10/dist-packages (from pandas) (2024.1)\n",
            "Requirement already satisfied: et-xmlfile in /usr/local/lib/python3.10/dist-packages (from openpyxl) (1.1.0)\n",
            "Requirement already satisfied: six>=1.5 in /usr/local/lib/python3.10/dist-packages (from python-dateutil>=2.8.2->pandas) (1.16.0)\n"
          ]
        }
      ]
    },
    {
      "cell_type": "markdown",
      "source": [
        "Question 10"
      ],
      "metadata": {
        "id": "5u9GCfyKKHS4"
      }
    },
    {
      "cell_type": "code",
      "source": [
        "from google.colab import files\n",
        "uploaded = files.upload()\n"
      ],
      "metadata": {
        "colab": {
          "base_uri": "https://localhost:8080/",
          "height": 90
        },
        "id": "k8AFgusFMcmo",
        "outputId": "f089fff5-4c99-406a-b9db-8d1937eb1ea1"
      },
      "execution_count": 15,
      "outputs": [
        {
          "output_type": "display_data",
          "data": {
            "text/plain": [
              "<IPython.core.display.HTML object>"
            ],
            "text/html": [
              "\n",
              "     <input type=\"file\" id=\"files-f1596d34-161a-4008-b9ae-8e2b4759960d\" name=\"files[]\" multiple disabled\n",
              "        style=\"border:none\" />\n",
              "     <output id=\"result-f1596d34-161a-4008-b9ae-8e2b4759960d\">\n",
              "      Upload widget is only available when the cell has been executed in the\n",
              "      current browser session. Please rerun this cell to enable.\n",
              "      </output>\n",
              "      <script>// Copyright 2017 Google LLC\n",
              "//\n",
              "// Licensed under the Apache License, Version 2.0 (the \"License\");\n",
              "// you may not use this file except in compliance with the License.\n",
              "// You may obtain a copy of the License at\n",
              "//\n",
              "//      http://www.apache.org/licenses/LICENSE-2.0\n",
              "//\n",
              "// Unless required by applicable law or agreed to in writing, software\n",
              "// distributed under the License is distributed on an \"AS IS\" BASIS,\n",
              "// WITHOUT WARRANTIES OR CONDITIONS OF ANY KIND, either express or implied.\n",
              "// See the License for the specific language governing permissions and\n",
              "// limitations under the License.\n",
              "\n",
              "/**\n",
              " * @fileoverview Helpers for google.colab Python module.\n",
              " */\n",
              "(function(scope) {\n",
              "function span(text, styleAttributes = {}) {\n",
              "  const element = document.createElement('span');\n",
              "  element.textContent = text;\n",
              "  for (const key of Object.keys(styleAttributes)) {\n",
              "    element.style[key] = styleAttributes[key];\n",
              "  }\n",
              "  return element;\n",
              "}\n",
              "\n",
              "// Max number of bytes which will be uploaded at a time.\n",
              "const MAX_PAYLOAD_SIZE = 100 * 1024;\n",
              "\n",
              "function _uploadFiles(inputId, outputId) {\n",
              "  const steps = uploadFilesStep(inputId, outputId);\n",
              "  const outputElement = document.getElementById(outputId);\n",
              "  // Cache steps on the outputElement to make it available for the next call\n",
              "  // to uploadFilesContinue from Python.\n",
              "  outputElement.steps = steps;\n",
              "\n",
              "  return _uploadFilesContinue(outputId);\n",
              "}\n",
              "\n",
              "// This is roughly an async generator (not supported in the browser yet),\n",
              "// where there are multiple asynchronous steps and the Python side is going\n",
              "// to poll for completion of each step.\n",
              "// This uses a Promise to block the python side on completion of each step,\n",
              "// then passes the result of the previous step as the input to the next step.\n",
              "function _uploadFilesContinue(outputId) {\n",
              "  const outputElement = document.getElementById(outputId);\n",
              "  const steps = outputElement.steps;\n",
              "\n",
              "  const next = steps.next(outputElement.lastPromiseValue);\n",
              "  return Promise.resolve(next.value.promise).then((value) => {\n",
              "    // Cache the last promise value to make it available to the next\n",
              "    // step of the generator.\n",
              "    outputElement.lastPromiseValue = value;\n",
              "    return next.value.response;\n",
              "  });\n",
              "}\n",
              "\n",
              "/**\n",
              " * Generator function which is called between each async step of the upload\n",
              " * process.\n",
              " * @param {string} inputId Element ID of the input file picker element.\n",
              " * @param {string} outputId Element ID of the output display.\n",
              " * @return {!Iterable<!Object>} Iterable of next steps.\n",
              " */\n",
              "function* uploadFilesStep(inputId, outputId) {\n",
              "  const inputElement = document.getElementById(inputId);\n",
              "  inputElement.disabled = false;\n",
              "\n",
              "  const outputElement = document.getElementById(outputId);\n",
              "  outputElement.innerHTML = '';\n",
              "\n",
              "  const pickedPromise = new Promise((resolve) => {\n",
              "    inputElement.addEventListener('change', (e) => {\n",
              "      resolve(e.target.files);\n",
              "    });\n",
              "  });\n",
              "\n",
              "  const cancel = document.createElement('button');\n",
              "  inputElement.parentElement.appendChild(cancel);\n",
              "  cancel.textContent = 'Cancel upload';\n",
              "  const cancelPromise = new Promise((resolve) => {\n",
              "    cancel.onclick = () => {\n",
              "      resolve(null);\n",
              "    };\n",
              "  });\n",
              "\n",
              "  // Wait for the user to pick the files.\n",
              "  const files = yield {\n",
              "    promise: Promise.race([pickedPromise, cancelPromise]),\n",
              "    response: {\n",
              "      action: 'starting',\n",
              "    }\n",
              "  };\n",
              "\n",
              "  cancel.remove();\n",
              "\n",
              "  // Disable the input element since further picks are not allowed.\n",
              "  inputElement.disabled = true;\n",
              "\n",
              "  if (!files) {\n",
              "    return {\n",
              "      response: {\n",
              "        action: 'complete',\n",
              "      }\n",
              "    };\n",
              "  }\n",
              "\n",
              "  for (const file of files) {\n",
              "    const li = document.createElement('li');\n",
              "    li.append(span(file.name, {fontWeight: 'bold'}));\n",
              "    li.append(span(\n",
              "        `(${file.type || 'n/a'}) - ${file.size} bytes, ` +\n",
              "        `last modified: ${\n",
              "            file.lastModifiedDate ? file.lastModifiedDate.toLocaleDateString() :\n",
              "                                    'n/a'} - `));\n",
              "    const percent = span('0% done');\n",
              "    li.appendChild(percent);\n",
              "\n",
              "    outputElement.appendChild(li);\n",
              "\n",
              "    const fileDataPromise = new Promise((resolve) => {\n",
              "      const reader = new FileReader();\n",
              "      reader.onload = (e) => {\n",
              "        resolve(e.target.result);\n",
              "      };\n",
              "      reader.readAsArrayBuffer(file);\n",
              "    });\n",
              "    // Wait for the data to be ready.\n",
              "    let fileData = yield {\n",
              "      promise: fileDataPromise,\n",
              "      response: {\n",
              "        action: 'continue',\n",
              "      }\n",
              "    };\n",
              "\n",
              "    // Use a chunked sending to avoid message size limits. See b/62115660.\n",
              "    let position = 0;\n",
              "    do {\n",
              "      const length = Math.min(fileData.byteLength - position, MAX_PAYLOAD_SIZE);\n",
              "      const chunk = new Uint8Array(fileData, position, length);\n",
              "      position += length;\n",
              "\n",
              "      const base64 = btoa(String.fromCharCode.apply(null, chunk));\n",
              "      yield {\n",
              "        response: {\n",
              "          action: 'append',\n",
              "          file: file.name,\n",
              "          data: base64,\n",
              "        },\n",
              "      };\n",
              "\n",
              "      let percentDone = fileData.byteLength === 0 ?\n",
              "          100 :\n",
              "          Math.round((position / fileData.byteLength) * 100);\n",
              "      percent.textContent = `${percentDone}% done`;\n",
              "\n",
              "    } while (position < fileData.byteLength);\n",
              "  }\n",
              "\n",
              "  // All done.\n",
              "  yield {\n",
              "    response: {\n",
              "      action: 'complete',\n",
              "    }\n",
              "  };\n",
              "}\n",
              "\n",
              "scope.google = scope.google || {};\n",
              "scope.google.colab = scope.google.colab || {};\n",
              "scope.google.colab._files = {\n",
              "  _uploadFiles,\n",
              "  _uploadFilesContinue,\n",
              "};\n",
              "})(self);\n",
              "</script> "
            ]
          },
          "metadata": {}
        },
        {
          "output_type": "stream",
          "name": "stdout",
          "text": [
            "Saving cities.xlsx to cities (2).xlsx\n"
          ]
        }
      ]
    },
    {
      "cell_type": "code",
      "source": [
        "df = pd.read_excel('cities.xlsx')\n",
        "\n",
        "df['City & State'] = df['City'] + ', ' + df['State']\n",
        "df.to_excel('cities_updated.xlsx', index=False)\n"
      ],
      "metadata": {
        "id": "hH4KUvEfKKnD"
      },
      "execution_count": 18,
      "outputs": []
    },
    {
      "cell_type": "code",
      "source": [
        "files.download('cities_updated.xlsx')\n"
      ],
      "metadata": {
        "colab": {
          "base_uri": "https://localhost:8080/",
          "height": 17
        },
        "id": "GLp4Omn_NYpL",
        "outputId": "dec8f5e1-9f70-4cea-9c23-5b36e265536b"
      },
      "execution_count": 19,
      "outputs": [
        {
          "output_type": "display_data",
          "data": {
            "text/plain": [
              "<IPython.core.display.Javascript object>"
            ],
            "application/javascript": [
              "\n",
              "    async function download(id, filename, size) {\n",
              "      if (!google.colab.kernel.accessAllowed) {\n",
              "        return;\n",
              "      }\n",
              "      const div = document.createElement('div');\n",
              "      const label = document.createElement('label');\n",
              "      label.textContent = `Downloading \"${filename}\": `;\n",
              "      div.appendChild(label);\n",
              "      const progress = document.createElement('progress');\n",
              "      progress.max = size;\n",
              "      div.appendChild(progress);\n",
              "      document.body.appendChild(div);\n",
              "\n",
              "      const buffers = [];\n",
              "      let downloaded = 0;\n",
              "\n",
              "      const channel = await google.colab.kernel.comms.open(id);\n",
              "      // Send a message to notify the kernel that we're ready.\n",
              "      channel.send({})\n",
              "\n",
              "      for await (const message of channel.messages) {\n",
              "        // Send a message to notify the kernel that we're ready.\n",
              "        channel.send({})\n",
              "        if (message.buffers) {\n",
              "          for (const buffer of message.buffers) {\n",
              "            buffers.push(buffer);\n",
              "            downloaded += buffer.byteLength;\n",
              "            progress.value = downloaded;\n",
              "          }\n",
              "        }\n",
              "      }\n",
              "      const blob = new Blob(buffers, {type: 'application/binary'});\n",
              "      const a = document.createElement('a');\n",
              "      a.href = window.URL.createObjectURL(blob);\n",
              "      a.download = filename;\n",
              "      div.appendChild(a);\n",
              "      a.click();\n",
              "      div.remove();\n",
              "    }\n",
              "  "
            ]
          },
          "metadata": {}
        },
        {
          "output_type": "display_data",
          "data": {
            "text/plain": [
              "<IPython.core.display.Javascript object>"
            ],
            "application/javascript": [
              "download(\"download_409fcc44-1c65-4fd3-8b51-80dc94a8eba3\", \"cities_updated.xlsx\", 5302)"
            ]
          },
          "metadata": {}
        }
      ]
    },
    {
      "cell_type": "markdown",
      "source": [
        "Question 11"
      ],
      "metadata": {
        "id": "TL0kxawBN0jP"
      }
    },
    {
      "cell_type": "code",
      "source": [
        "import numpy as np\n",
        "import matplotlib.pyplot as plt\n",
        "V1 = np.random.rand(100)\n",
        "V1_sorted = np.sort(V1)\n",
        "plt.plot(V1_sorted, color='blue', marker='o', linestyle='-')\n",
        "plt.title('Sorted Vector Plot')\n",
        "plt.xlabel('Index')\n",
        "plt.ylabel('Value')\n",
        "\n",
        "plt.show()\n",
        "\n",
        "\n",
        "plt.plot(V1_sorted, color='red', marker='o', linestyle='-')\n",
        "plt.title('Sorted Vector Plot')\n",
        "plt.xlabel('Index')\n",
        "plt.ylabel('Value')\n",
        "\n",
        "plt.show()\n"
      ],
      "metadata": {
        "colab": {
          "base_uri": "https://localhost:8080/",
          "height": 927
        },
        "id": "X3UBd8MeNbCj",
        "outputId": "b9184c6b-ff75-4234-cdc0-0d6de72439c4"
      },
      "execution_count": 20,
      "outputs": [
        {
          "output_type": "display_data",
          "data": {
            "text/plain": [
              "<Figure size 640x480 with 1 Axes>"
            ],
            "image/png": "[encoded data removed]"
          },
          "metadata": {}
        },
        {
          "output_type": "display_data",
          "data": {
            "text/plain": [
              "<Figure size 640x480 with 1 Axes>"
            ],
            "image/png": "[encoded data removed]"
          },
          "metadata": {}
        }
      ]
    },
    {
      "cell_type": "markdown",
      "source": [
        "Question 12"
      ],
      "metadata": {
        "id": "1ojYICPQOI-O"
      }
    },
    {
      "cell_type": "code",
      "source": [
        "import numpy as np\n",
        "import matplotlib.pyplot as plt\n",
        "V1 = np.random.rand(100)\n",
        "V2 = V1 ** 2\n",
        "V1_sorted = np.sort(V1)\n",
        "V2_sorted = np.sort(V2[np.argsort(V1)])\n",
        "\n",
        "plt.figure(figsize=(10, 6))\n",
        "\n",
        "plt.plot(V1_sorted, color='blue', marker='o', linestyle='-', label='V1')\n",
        "\n",
        "plt.plot(V2_sorted, color='red', marker='x', linestyle='--', label='V2')\n",
        "\n",
        "plt.title('Plot of V1 and V2')\n",
        "plt.xlabel('Index')\n",
        "plt.ylabel('Value')\n",
        "plt.legend()\n",
        "\n",
        "plt.show()\n"
      ],
      "metadata": {
        "colab": {
          "base_uri": "https://localhost:8080/",
          "height": 434
        },
        "id": "ofH_e9CtOHYa",
        "outputId": "97950b8c-e009-41bb-9949-b84696c7d774"
      },
      "execution_count": 21,
      "outputs": [
        {
          "output_type": "display_data",
          "data": {
            "text/plain": [
              "<Figure size 1000x600 with 1 Axes>"
            ],
            "image/png": "[encoded data removed]"
          },
          "metadata": {}
        }
      ]
    },
    {
      "cell_type": "code",
      "source": [],
      "metadata": {
        "id": "JitXuDz0Obqu"
      },
      "execution_count": null,
      "outputs": []
    }
  ]
}