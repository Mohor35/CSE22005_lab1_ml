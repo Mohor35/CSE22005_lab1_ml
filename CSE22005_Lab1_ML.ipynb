{
  "cells": [
    {
      "cell_type": "markdown",
      "metadata": {
        "id": "view-in-github",
        "colab_type": "text"
      },
      "source": [
        "<a href=\"https://colab.research.google.com/github/Mohor35/CSE22005_lab1_ml/blob/main/CSE22005_Lab1_ML.ipynb\" target=\"_parent\"><img src=\"https://colab.research.google.com/assets/colab-badge.svg\" alt=\"Open In Colab\"/></a>"
      ]
    },
    {
      "cell_type": "markdown",
      "source": [
        "Adrija Adhikary cse22005"
      ],
      "metadata": {
        "id": "zeAYorWUATpu"
      }
    },
    {
      "cell_type": "markdown",
      "source": [
        "Question 1"
      ],
      "metadata": {
        "id": "vgVoJ2R7APmw"
      }
    },
    {
      "cell_type": "code",
      "source": [
        "def count_pairs_with_sum(lst, target_sum):\n",
        "\n",
        "    visited = set()\n",
        "    pairs = set()\n",
        "\n",
        "    for number in lst:\n",
        "\n",
        "        required_number = target_sum - number\n",
        "\n",
        "\n",
        "        if required_number in visited:\n",
        "\n",
        "            pairs.add((min(number, required_number), max(number, required_number)))\n",
        "\n",
        "        visited.add(number)\n",
        "\n",
        "    return len(pairs)\n",
        "\n",
        "\n",
        "elements = [2, 7, 4, 1, 3, 6]\n",
        "\n",
        "\n",
        "target_sum = 10\n",
        "\n",
        "\n",
        "number_of_pairs = count_pairs_with_sum(elements, target_sum)\n",
        "print(\"Number of pairs with sum equal to 10:\", number_of_pairs)\n"
      ],
      "metadata": {
        "id": "vMiuu65Z_I5J",
        "outputId": "cf1b837a-b961-4506-e47b-6752332e4ee5",
        "colab": {
          "base_uri": "https://localhost:8080/"
        }
      },
      "execution_count": null,
      "outputs": [
        {
          "output_type": "stream",
          "name": "stdout",
          "text": [
            "Number of pairs with sum equal to 10: 2\n"
          ]
        }
      ]
    },
    {
      "cell_type": "markdown",
      "source": [
        "Question 2"
      ],
      "metadata": {
        "id": "kXpEofkVAf6f"
      }
    },
    {
      "cell_type": "code",
      "source": [
        "def calculate_range(lst):\n",
        "\n",
        "    if len(lst) < 3:\n",
        "        return \"Range determination not possible\"\n",
        "\n",
        "    min_value = min(lst)\n",
        "    max_value = max(lst)\n",
        "\n",
        "    range_value = max_value - min_value\n",
        "\n",
        "    return range_value\n",
        "\n",
        "numbers = [5, 3, 8, 1, 0, 4]\n",
        "\n",
        "\n",
        "result = calculate_range(numbers)\n",
        "\n",
        "print(\"Range:\", result)\n"
      ],
      "metadata": {
        "colab": {
          "base_uri": "https://localhost:8080/"
        },
        "id": "vU5YgEpVAiSn",
        "outputId": "6211f8d2-04d5-4d80-ec5b-451b0cbdbfcb"
      },
      "execution_count": null,
      "outputs": [
        {
          "output_type": "stream",
          "name": "stdout",
          "text": [
            "Range: 8\n"
          ]
        }
      ]
    },
    {
      "cell_type": "markdown",
      "source": [
        "Question 3"
      ],
      "metadata": {
        "id": "FQkfv3MCCxKO"
      }
    },
    {
      "cell_type": "code",
      "source": [
        "import numpy as np\n",
        "\n",
        "def matrix_exponentiation(A, m):\n",
        "\n",
        "    A = np.array(A)\n",
        "\n",
        "\n",
        "    if A.shape[0] != A.shape[1]:\n",
        "        raise ValueError(\"The matrix must be square.\")\n",
        "\n",
        "\n",
        "    if m <= 0:\n",
        "        raise ValueError(\"The exponent m must be a positive integer.\")\n",
        "\n",
        "\n",
        "    result = np.eye(A.shape[0], dtype=A.dtype)\n",
        "\n",
        "\n",
        "    for _ in range(m):\n",
        "        result = np.dot(result, A)\n",
        "\n",
        "    return result\n",
        "\n",
        "A = [\n",
        "    [1, 2],\n",
        "    [3, 4]\n",
        "]\n",
        "\n",
        "m = 3\n",
        "\n",
        "result = matrix_exponentiation(A, m)\n",
        "print(\"A^m:\")\n",
        "print(result)\n"
      ],
      "metadata": {
        "colab": {
          "base_uri": "https://localhost:8080/"
        },
        "id": "Zl5lAa8vC1RG",
        "outputId": "548d3c7b-6b92-45b2-9ccf-fe224d710f20"
      },
      "execution_count": null,
      "outputs": [
        {
          "output_type": "stream",
          "name": "stdout",
          "text": [
            "A^m:\n",
            "[[ 37  54]\n",
            " [ 81 118]]\n"
          ]
        }
      ]
    },
    {
      "cell_type": "markdown",
      "source": [
        "Question 4"
      ],
      "metadata": {
        "id": "Kxrm6elmDwjt"
      }
    },
    {
      "cell_type": "code",
      "source": [
        "from collections import Counter\n",
        "\n",
        "def highest_occurrence_char(input_string):\n",
        "\n",
        "    filtered_string = ''.join(char.lower() for char in input_string if char.isalpha())\n",
        "\n",
        "\n",
        "    if not filtered_string:\n",
        "        return \"No alphabetic characters in the input string\"\n",
        "\n",
        "    char_count = Counter(filtered_string)\n",
        "\n",
        "\n",
        "    max_char = max(char_count, key=char_count.get)\n",
        "    max_count = char_count[max_char]\n",
        "\n",
        "    return max_char, max_count\n",
        "\n",
        "\n",
        "input_string = \"hippopotamus\"\n",
        "result = highest_occurrence_char(input_string)\n",
        "print(f\"Maximally occurring character is '{result[0]}' with occurrence count {result[1]}\")\n"
      ],
      "metadata": {
        "colab": {
          "base_uri": "https://localhost:8080/"
        },
        "id": "owo45xw0DzbP",
        "outputId": "61e4ab09-5e96-4f7c-daea-18008bd0a2ce"
      },
      "execution_count": null,
      "outputs": [
        {
          "output_type": "stream",
          "name": "stdout",
          "text": [
            "Maximally occurring character is 'p' with occurrence count 3\n"
          ]
        }
      ]
    }
  ],
  "metadata": {
    "colab": {
      "provenance": [],
      "include_colab_link": true
    },
    "kernelspec": {
      "display_name": "Python 3",
      "name": "python3"
    }
  },
  "nbformat": 4,
  "nbformat_minor": 0
}